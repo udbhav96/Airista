{
 "cells": [
  {
   "cell_type": "code",
   "execution_count": 3,
   "metadata": {},
   "outputs": [],
   "source": [
    "import joblib\n",
    "import cv2\n",
    "import numpy as np\n",
    "from skimage.feature import hog\n",
    "import os"
   ]
  },
  {
   "cell_type": "code",
   "execution_count": 4,
   "metadata": {},
   "outputs": [],
   "source": [
    "def extract_features(image_path):\n",
    "    img = cv2.imread(image_path, 0)  # Read the image in grayscale\n",
    "    img = cv2.resize(img, (64, 64))  # Resize image to 64x64\n",
    "    \n",
    "    # Threshold and blur for better contours\n",
    "    img = cv2.GaussianBlur(img, (3, 3), 0)\n",
    "    _, thresh = cv2.threshold(img, 0, 255, cv2.THRESH_BINARY + cv2.THRESH_OTSU)\n",
    "\n",
    "    # Hu Moments\n",
    "    moments = cv2.moments(thresh)\n",
    "    hu = cv2.HuMoments(moments).flatten()\n",
    "    hu = -np.sign(hu) * np.log10(np.abs(hu) + 1e-10)  # Log scale for better range\n",
    "\n",
    "    # HOG Features\n",
    "    hog_feat = hog(thresh, orientations=9, pixels_per_cell=(8, 8),\n",
    "                   cells_per_block=(2, 2), block_norm='L2-Hys', visualize=False)\n",
    "\n",
    "    return np.hstack([hu, hog_feat])\n"
   ]
  },
  {
   "cell_type": "code",
   "execution_count": 5,
   "metadata": {},
   "outputs": [],
   "source": [
    "model = joblib.load('svm_model.pkl')\n",
    "scaler = joblib.load('scaler.pkl')\n",
    "pca = joblib.load('pca.pkl')\n"
   ]
  },
  {
   "cell_type": "code",
   "execution_count": 6,
   "metadata": {},
   "outputs": [],
   "source": [
    "def test_all_images(test_dir):\n",
    "    true_labels = []\n",
    "    predictions = []\n",
    "    \n",
    "    # Loop through all classes and images\n",
    "    for class_name in os.listdir(test_dir):\n",
    "        class_path = os.path.join(test_dir, class_name)\n",
    "        if os.path.isdir(class_path):\n",
    "            for image_file in os.listdir(class_path):\n",
    "                image_path = os.path.join(class_path, image_file)\n",
    "                if image_file.lower().endswith(('.png', '.jpg', '.jpeg')):  # Check if it's an image file\n",
    "                    # Extract features from the image\n",
    "                    features = extract_features(image_path)\n",
    "                    features_scaled = scaler.transform([features])  # Apply scaling\n",
    "                    features_pca = pca.transform(features_scaled)  # Apply PCA transformation\n",
    "                    \n",
    "                    # Make prediction\n",
    "                    prediction = model.predict(features_pca)\n",
    "                    \n",
    "                    # Collect the true label and predicted label\n",
    "                    true_labels.append(class_name)\n",
    "                    predictions.append(prediction[0])\n",
    "\n",
    "    return true_labels, predictions\n",
    "\n"
   ]
  },
  {
   "cell_type": "code",
   "execution_count": 7,
   "metadata": {},
   "outputs": [],
   "source": [
    "test_directory = '/home/udbhav-purwar/Documents/Project/Airista/Shapes-DS/test'\n"
   ]
  },
  {
   "cell_type": "code",
   "execution_count": 8,
   "metadata": {},
   "outputs": [],
   "source": [
    "true_labels, predictions = test_all_images(test_directory)\n"
   ]
  },
  {
   "cell_type": "code",
   "execution_count": 9,
   "metadata": {},
   "outputs": [
    {
     "name": "stdout",
     "output_type": "stream",
     "text": [
      "Classification Report:\n",
      "              precision    recall  f1-score   support\n",
      "\n",
      "      circle       1.00      1.00      1.00       744\n",
      "      square       1.00      1.00      1.00       753\n",
      "        star       1.00      1.00      1.00       753\n",
      "    triangle       1.00      1.00      1.00       744\n",
      "\n",
      "    accuracy                           1.00      2994\n",
      "   macro avg       1.00      1.00      1.00      2994\n",
      "weighted avg       1.00      1.00      1.00      2994\n",
      "\n"
     ]
    }
   ],
   "source": [
    "from sklearn.metrics import classification_report, confusion_matrix\n",
    "print(\"Classification Report:\")\n",
    "print(classification_report(true_labels, predictions))\n",
    "\n"
   ]
  },
  {
   "cell_type": "code",
   "execution_count": 10,
   "metadata": {},
   "outputs": [
    {
     "name": "stdout",
     "output_type": "stream",
     "text": [
      "Confusion Matrix:\n"
     ]
    },
    {
     "data": {
      "image/png": "[encoded data removed]",
      "text/plain": [
       "<Figure size 640x480 with 2 Axes>"
      ]
     },
     "metadata": {},
     "output_type": "display_data"
    }
   ],
   "source": [
    "print(\"Confusion Matrix:\")\n",
    "cm = confusion_matrix(true_labels, predictions)\n",
    "import seaborn as sns\n",
    "import matplotlib.pyplot as plt\n",
    "sns.heatmap(cm, annot=True, fmt='d', cmap='Blues', xticklabels=np.unique(true_labels), yticklabels=np.unique(true_labels))\n",
    "plt.xlabel('Predicted')\n",
    "plt.ylabel('Actual')\n",
    "plt.title('Confusion Matrix')\n",
    "plt.show()\n"
   ]
  }
 ],
 "metadata": {
  "kernelspec": {
   "display_name": "Airista",
   "language": "python",
   "name": "python3"
  },
  "language_info": {
   "codemirror_mode": {
    "name": "ipython",
    "version": 3
   },
   "file_extension": ".py",
   "mimetype": "text/x-python",
   "name": "python",
   "nbconvert_exporter": "python",
   "pygments_lexer": "ipython3",
   "version": "3.12.3"
  }
 },
 "nbformat": 4,
 "nbformat_minor": 2
}
